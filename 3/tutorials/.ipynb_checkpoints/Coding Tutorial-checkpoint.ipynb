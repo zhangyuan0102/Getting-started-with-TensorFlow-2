{
 "cells": [
  {
   "cell_type": "code",
   "execution_count": 1,
   "metadata": {
    "scrolled": true
   },
   "outputs": [
    {
     "name": "stdout",
     "output_type": "stream",
     "text": [
      "2.0.0\n"
     ]
    }
   ],
   "source": [
    "import tensorflow as tf\n",
    "print(tf.__version__)"
   ]
  },
  {
   "cell_type": "markdown",
   "metadata": {},
   "source": [
    "# Validation, regularisation and callbacks"
   ]
  },
  {
   "cell_type": "markdown",
   "metadata": {},
   "source": [
    " ## Coding tutorials\n",
    " #### [1. Validation sets](#coding_tutorial_1)\n",
    " #### [2. Model regularisation](#coding_tutorial_2)\n",
    " #### [3. Introduction to callbacks](#coding_tutorial_3)\n",
    " #### [4. Early stopping / patience](#coding_tutorial_4)"
   ]
  },
  {
   "cell_type": "markdown",
   "metadata": {},
   "source": [
    "***\n",
    "<a id=\"coding_tutorial_1\"></a>\n",
    "## Validation sets"
   ]
  },
  {
   "cell_type": "markdown",
   "metadata": {},
   "source": [
    "#### Load the data"
   ]
  },
  {
   "cell_type": "code",
   "execution_count": 2,
   "metadata": {},
   "outputs": [
    {
     "name": "stdout",
     "output_type": "stream",
     "text": [
      "{'data': array([[ 0.03807591,  0.05068012,  0.06169621, ..., -0.00259226,\n",
      "         0.01990842, -0.01764613],\n",
      "       [-0.00188202, -0.04464164, -0.05147406, ..., -0.03949338,\n",
      "        -0.06832974, -0.09220405],\n",
      "       [ 0.08529891,  0.05068012,  0.04445121, ..., -0.00259226,\n",
      "         0.00286377, -0.02593034],\n",
      "       ...,\n",
      "       [ 0.04170844,  0.05068012, -0.01590626, ..., -0.01107952,\n",
      "        -0.04687948,  0.01549073],\n",
      "       [-0.04547248, -0.04464164,  0.03906215, ...,  0.02655962,\n",
      "         0.04452837, -0.02593034],\n",
      "       [-0.04547248, -0.04464164, -0.0730303 , ..., -0.03949338,\n",
      "        -0.00421986,  0.00306441]]), 'target': array([151.,  75., 141., 206., 135.,  97., 138.,  63., 110., 310., 101.,\n",
      "        69., 179., 185., 118., 171., 166., 144.,  97., 168.,  68.,  49.,\n",
      "        68., 245., 184., 202., 137.,  85., 131., 283., 129.,  59., 341.,\n",
      "        87.,  65., 102., 265., 276., 252.,  90., 100.,  55.,  61.,  92.,\n",
      "       259.,  53., 190., 142.,  75., 142., 155., 225.,  59., 104., 182.,\n",
      "       128.,  52.,  37., 170., 170.,  61., 144.,  52., 128.,  71., 163.,\n",
      "       150.,  97., 160., 178.,  48., 270., 202., 111.,  85.,  42., 170.,\n",
      "       200., 252., 113., 143.,  51.,  52., 210.,  65., 141.,  55., 134.,\n",
      "        42., 111.,  98., 164.,  48.,  96.,  90., 162., 150., 279.,  92.,\n",
      "        83., 128., 102., 302., 198.,  95.,  53., 134., 144., 232.,  81.,\n",
      "       104.,  59., 246., 297., 258., 229., 275., 281., 179., 200., 200.,\n",
      "       173., 180.,  84., 121., 161.,  99., 109., 115., 268., 274., 158.,\n",
      "       107.,  83., 103., 272.,  85., 280., 336., 281., 118., 317., 235.,\n",
      "        60., 174., 259., 178., 128.,  96., 126., 288.,  88., 292.,  71.,\n",
      "       197., 186.,  25.,  84.,  96., 195.,  53., 217., 172., 131., 214.,\n",
      "        59.,  70., 220., 268., 152.,  47.,  74., 295., 101., 151., 127.,\n",
      "       237., 225.,  81., 151., 107.,  64., 138., 185., 265., 101., 137.,\n",
      "       143., 141.,  79., 292., 178.,  91., 116.,  86., 122.,  72., 129.,\n",
      "       142.,  90., 158.,  39., 196., 222., 277.,  99., 196., 202., 155.,\n",
      "        77., 191.,  70.,  73.,  49.,  65., 263., 248., 296., 214., 185.,\n",
      "        78.,  93., 252., 150.,  77., 208.,  77., 108., 160.,  53., 220.,\n",
      "       154., 259.,  90., 246., 124.,  67.,  72., 257., 262., 275., 177.,\n",
      "        71.,  47., 187., 125.,  78.,  51., 258., 215., 303., 243.,  91.,\n",
      "       150., 310., 153., 346.,  63.,  89.,  50.,  39., 103., 308., 116.,\n",
      "       145.,  74.,  45., 115., 264.,  87., 202., 127., 182., 241.,  66.,\n",
      "        94., 283.,  64., 102., 200., 265.,  94., 230., 181., 156., 233.,\n",
      "        60., 219.,  80.,  68., 332., 248.,  84., 200.,  55.,  85.,  89.,\n",
      "        31., 129.,  83., 275.,  65., 198., 236., 253., 124.,  44., 172.,\n",
      "       114., 142., 109., 180., 144., 163., 147.,  97., 220., 190., 109.,\n",
      "       191., 122., 230., 242., 248., 249., 192., 131., 237.,  78., 135.,\n",
      "       244., 199., 270., 164.,  72.,  96., 306.,  91., 214.,  95., 216.,\n",
      "       263., 178., 113., 200., 139., 139.,  88., 148.,  88., 243.,  71.,\n",
      "        77., 109., 272.,  60.,  54., 221.,  90., 311., 281., 182., 321.,\n",
      "        58., 262., 206., 233., 242., 123., 167.,  63., 197.,  71., 168.,\n",
      "       140., 217., 121., 235., 245.,  40.,  52., 104., 132.,  88.,  69.,\n",
      "       219.,  72., 201., 110.,  51., 277.,  63., 118.,  69., 273., 258.,\n",
      "        43., 198., 242., 232., 175.,  93., 168., 275., 293., 281.,  72.,\n",
      "       140., 189., 181., 209., 136., 261., 113., 131., 174., 257.,  55.,\n",
      "        84.,  42., 146., 212., 233.,  91., 111., 152., 120.,  67., 310.,\n",
      "        94., 183.,  66., 173.,  72.,  49.,  64.,  48., 178., 104., 132.,\n",
      "       220.,  57.]), 'DESCR': '.. _diabetes_dataset:\\n\\nDiabetes dataset\\n----------------\\n\\nTen baseline variables, age, sex, body mass index, average blood\\npressure, and six blood serum measurements were obtained for each of n =\\n442 diabetes patients, as well as the response of interest, a\\nquantitative measure of disease progression one year after baseline.\\n\\n**Data Set Characteristics:**\\n\\n  :Number of Instances: 442\\n\\n  :Number of Attributes: First 10 columns are numeric predictive values\\n\\n  :Target: Column 11 is a quantitative measure of disease progression one year after baseline\\n\\n  :Attribute Information:\\n      - Age\\n      - Sex\\n      - Body mass index\\n      - Average blood pressure\\n      - S1\\n      - S2\\n      - S3\\n      - S4\\n      - S5\\n      - S6\\n\\nNote: Each of these 10 feature variables have been mean centered and scaled by the standard deviation times `n_samples` (i.e. the sum of squares of each column totals 1).\\n\\nSource URL:\\nhttp://www4.stat.ncsu.edu/~boos/var.select/diabetes.html\\n\\nFor more information see:\\nBradley Efron, Trevor Hastie, Iain Johnstone and Robert Tibshirani (2004) \"Least Angle Regression,\" Annals of Statistics (with discussion), 407-499.\\n(http://web.stanford.edu/~hastie/Papers/LARS/LeastAngle_2002.pdf)', 'feature_names': ['age', 'sex', 'bmi', 'bp', 's1', 's2', 's3', 's4', 's5', 's6'], 'data_filename': '/opt/conda/lib/python3.7/site-packages/sklearn/datasets/data/diabetes_data.csv.gz', 'target_filename': '/opt/conda/lib/python3.7/site-packages/sklearn/datasets/data/diabetes_target.csv.gz'}\n"
     ]
    }
   ],
   "source": [
    "# Load the diabetes dataset\n",
    "from sklearn.datasets import load_diabetes\n",
    "diabetes_dataset = load_diabetes()\n",
    "print(diabetes_dataset)"
   ]
  },
  {
   "cell_type": "code",
   "execution_count": 5,
   "metadata": {},
   "outputs": [],
   "source": [
    "# Save the input and target variables\n",
    "data = diabetes_dataset['data']\n",
    "targets = diabetes_dataset['target']"
   ]
  },
  {
   "cell_type": "code",
   "execution_count": 6,
   "metadata": {},
   "outputs": [],
   "source": [
    "# Normalise the target data (this will make clearer training curves)\n",
    "targets = (targets-targets.mean(axis=0))/targets.std()\n"
   ]
  },
  {
   "cell_type": "code",
   "execution_count": 7,
   "metadata": {},
   "outputs": [],
   "source": [
    "# Split the data into train and test sets\n",
    "from sklearn.model_selection import train_test_split\n",
    "train_data,test_data,train_targets,test_targets = train_test_split(data,targets,test_size=0.1)\n"
   ]
  },
  {
   "cell_type": "markdown",
   "metadata": {},
   "source": [
    "#### Train a feedforward neural network model"
   ]
  },
  {
   "cell_type": "code",
   "execution_count": 8,
   "metadata": {},
   "outputs": [],
   "source": [
    "# Build the model\n",
    "from tensorflow.keras.models import Sequential\n",
    "from tensorflow.keras.layers import Dense\n",
    "\n",
    "def get_model():\n",
    "    model = Sequential([\n",
    "        Dense(128,activation = 'relu',input_shape =(train_data.shape[1],)),\n",
    "        Dense(128,activation = 'relu'),\n",
    "        Dense(128,activation = 'relu'),\n",
    "        Dense(128,activation = 'relu'),\n",
    "        Dense(128,activation = 'relu'),\n",
    "        Dense(128,activation = 'relu'),\n",
    "        Dense(1)\n",
    "    ])\n",
    "    return model\n",
    "model = get_model()"
   ]
  },
  {
   "cell_type": "code",
   "execution_count": 9,
   "metadata": {},
   "outputs": [
    {
     "name": "stdout",
     "output_type": "stream",
     "text": [
      "Model: \"sequential\"\n",
      "_________________________________________________________________\n",
      "Layer (type)                 Output Shape              Param #   \n",
      "=================================================================\n",
      "dense (Dense)                (None, 128)               1408      \n",
      "_________________________________________________________________\n",
      "dense_1 (Dense)              (None, 128)               16512     \n",
      "_________________________________________________________________\n",
      "dense_2 (Dense)              (None, 128)               16512     \n",
      "_________________________________________________________________\n",
      "dense_3 (Dense)              (None, 128)               16512     \n",
      "_________________________________________________________________\n",
      "dense_4 (Dense)              (None, 128)               16512     \n",
      "_________________________________________________________________\n",
      "dense_5 (Dense)              (None, 128)               16512     \n",
      "_________________________________________________________________\n",
      "dense_6 (Dense)              (None, 1)                 129       \n",
      "=================================================================\n",
      "Total params: 84,097\n",
      "Trainable params: 84,097\n",
      "Non-trainable params: 0\n",
      "_________________________________________________________________\n"
     ]
    }
   ],
   "source": [
    "# Print the model summary\n",
    "\n",
    "model.summary()"
   ]
  },
  {
   "cell_type": "code",
   "execution_count": 10,
   "metadata": {},
   "outputs": [],
   "source": [
    "# Compile the model\n",
    "\n",
    "model.compile(optimizer =\"adam\",loss = \"mse\",metric=[\"mae\"])"
   ]
  },
  {
   "cell_type": "code",
   "execution_count": 11,
   "metadata": {},
   "outputs": [],
   "source": [
    "# Train the model, with some of the data reserved for validation\n",
    "\n",
    "history = model.fit(train_data,train_targets,epochs=100,validation_split=0.15,batch_size=64,verbose=False)"
   ]
  },
  {
   "cell_type": "code",
   "execution_count": 12,
   "metadata": {},
   "outputs": [
    {
     "name": "stdout",
     "output_type": "stream",
     "text": [
      "45/1 - 0s - loss: 1.0421\n"
     ]
    },
    {
     "data": {
      "text/plain": [
       "0.9790521780649821"
      ]
     },
     "execution_count": 12,
     "metadata": {},
     "output_type": "execute_result"
    }
   ],
   "source": [
    "# Evaluate the model on the test set\n",
    "\n",
    "model.evaluate(test_data,test_targets,verbose=2)"
   ]
  },
  {
   "cell_type": "markdown",
   "metadata": {},
   "source": [
    "#### Plot the learning curves"
   ]
  },
  {
   "cell_type": "code",
   "execution_count": 13,
   "metadata": {},
   "outputs": [],
   "source": [
    "import matplotlib.pyplot as plt\n",
    "%matplotlib inline"
   ]
  },
  {
   "cell_type": "code",
   "execution_count": 14,
   "metadata": {},
   "outputs": [
    {
     "data": {
      "image/png": "[encoded data removed]",
      "text/plain": [
       "<Figure size 432x288 with 1 Axes>"
      ]
     },
     "metadata": {
      "needs_background": "light"
     },
     "output_type": "display_data"
    }
   ],
   "source": [
    "# Plot the training and validation loss\n",
    "\n",
    "plt.plot(history.history['loss'])\n",
    "plt.plot(history.history['val_loss'])\n",
    "plt.title('Loss vs. epochs')\n",
    "plt.ylabel('Loss')\n",
    "plt.xlabel('Epoch')\n",
    "plt.legend(['Training', 'Validation'], loc='upper right')\n",
    "plt.show()"
   ]
  },
  {
   "cell_type": "markdown",
   "metadata": {},
   "source": [
    "***\n",
    "<a id=\"coding_tutorial_2\"></a>\n",
    "## Model regularisation"
   ]
  },
  {
   "cell_type": "markdown",
   "metadata": {},
   "source": [
    "#### Adding regularisation with weight decay and dropout"
   ]
  },
  {
   "cell_type": "code",
   "execution_count": 15,
   "metadata": {},
   "outputs": [],
   "source": [
    "from tensorflow.keras.layers import Dropout\n",
    "from tensorflow.keras import regularizers"
   ]
  },
  {
   "cell_type": "code",
   "execution_count": 16,
   "metadata": {},
   "outputs": [],
   "source": [
    "def get_regularised_model(wd, rate):\n",
    "    model = Sequential([\n",
    "        Dense(128, kernel_regularizer = regularizers.l2(wd),activation=\"relu\", input_shape=(train_data.shape[1],)),\n",
    "        Dropout(rate),\n",
    "        Dense(128, kernel_regularizer = regularizers.l2(wd),activation=\"relu\"),\n",
    "        Dropout(rate),\n",
    "        Dense(128, kernel_regularizer = regularizers.l2(wd),activation=\"relu\"),\n",
    "        Dropout(rate),\n",
    "        Dense(128, kernel_regularizer = regularizers.l2(wd),activation=\"relu\"),\n",
    "        Dropout(rate),\n",
    "        Dense(128, kernel_regularizer = regularizers.l2(wd),activation=\"relu\"),\n",
    "        Dropout(rate),\n",
    "        Dense(128, kernel_regularizer = regularizers.l2(wd),activation=\"relu\"),\n",
    "        Dropout(rate),\n",
    "        Dense(1)\n",
    "    ])\n",
    "    return model"
   ]
  },
  {
   "cell_type": "code",
   "execution_count": 17,
   "metadata": {},
   "outputs": [],
   "source": [
    "# Re-build the model with weight decay and dropout layers\n",
    "\n",
    "model = get_regularised_model(1e-3,0.3)"
   ]
  },
  {
   "cell_type": "code",
   "execution_count": 18,
   "metadata": {},
   "outputs": [],
   "source": [
    "# Compile the model\n",
    "\n",
    "model.compile(optimizer =\"adam\",loss = \"mse\",metric=[\"mae\"])"
   ]
  },
  {
   "cell_type": "code",
   "execution_count": 19,
   "metadata": {},
   "outputs": [],
   "source": [
    "# Train the model, with some of the data reserved for validation\n",
    "\n",
    "history = model.fit(train_data,train_targets,epochs=100,validation_split=0.15,batch_size=64,verbose=False)"
   ]
  },
  {
   "cell_type": "code",
   "execution_count": 20,
   "metadata": {},
   "outputs": [
    {
     "name": "stdout",
     "output_type": "stream",
     "text": [
      "45/1 - 0s - loss: 0.9035\n"
     ]
    },
    {
     "data": {
      "text/plain": [
       "0.7397039651870727"
      ]
     },
     "execution_count": 20,
     "metadata": {},
     "output_type": "execute_result"
    }
   ],
   "source": [
    "# Evaluate the model on the test set\n",
    "\n",
    "model.evaluate(test_data,test_targets,verbose=2)"
   ]
  },
  {
   "cell_type": "markdown",
   "metadata": {},
   "source": [
    "#### Plot the learning curves"
   ]
  },
  {
   "cell_type": "code",
   "execution_count": 21,
   "metadata": {},
   "outputs": [
    {
     "data": {
      "image/png": "[encoded data removed]",
      "text/plain": [
       "<Figure size 432x288 with 1 Axes>"
      ]
     },
     "metadata": {
      "needs_background": "light"
     },
     "output_type": "display_data"
    }
   ],
   "source": [
    "# Plot the training and validation loss\n",
    "\n",
    "import matplotlib.pyplot as plt\n",
    "\n",
    "plt.plot(history.history['loss'])\n",
    "plt.plot(history.history['val_loss'])\n",
    "plt.title('Loss vs. epochs')\n",
    "plt.ylabel('Loss')\n",
    "plt.xlabel('Epoch')\n",
    "plt.legend(['Training', 'Validation'], loc='upper right')\n",
    "plt.show()"
   ]
  },
  {
   "cell_type": "markdown",
   "metadata": {},
   "source": [
    "***\n",
    "<a id=\"coding_tutorial_3\"></a>\n",
    "## Introduction to callbacks"
   ]
  },
  {
   "cell_type": "markdown",
   "metadata": {},
   "source": [
    "#### Example training callback"
   ]
  },
  {
   "cell_type": "code",
   "execution_count": 24,
   "metadata": {},
   "outputs": [],
   "source": [
    "# Write a custom callback\n",
    "from tensorflow.keras.callbacks import Callback\n",
    "\n",
    "class TrainCallback(Callback):\n",
    "    def on_train_begin(self, logs=None):\n",
    "        print(\"Starting training....\")\n",
    "    \n",
    "    def on_epoch_begin(self, epoch, logs=None):\n",
    "        print(f\"Starting epoch {epoch}\")\n",
    "    \n",
    "    def on_train_batch_begin(self, batch, logs=None):\n",
    "        print(f\"Training: Starting batch {batch}\")\n",
    "    \n",
    "    def on_train_batch_end(self, batch, logs=None):\n",
    "        print(f\"Training: Finished batch {batch}\")\n",
    "    \n",
    "    def on_epoch_end(self, epoch, logs=None):\n",
    "        print(f\"Finished epoch {epoch}\")\n",
    "    \n",
    "    def on_train_end(self, logs=None):\n",
    "        print(\"Finished training!\")\n",
    "# class TestCallback(Callback):\n",
    "#     def on_test_begin（self,logs = None):\n",
    "#         print(\"Starting testing....\")\n",
    "#     def on_test_batch_begin（self,batch,logs = None):\n",
    "#         print(f\"Testing: Starting batch {batch}\")\n",
    "#     def on_test_batch_end（self,batch,logs = None):\n",
    "#         print(f\"Testing: Finished batch {batch}\") \n",
    "#     def on_test_end（self,logs = None):\n",
    "#         print(\"Finished testing!\")   \n",
    "# class PredictionCallback(Callback):\n",
    "#     def on_prediction_begin（self,logs = None):\n",
    "#         print(\"Starting predcting....\")\n",
    "#     def on_prediction_batch_begin（self,batch,logs = None):\n",
    "#         print(f\"Predicting: Starting batch {batch}\")\n",
    "#     def on_prediction_batch_end（self,batch,logs = None):\n",
    "#         print(f\"Predicting: Finished batch {batch}\") \n",
    "#     def on_prediction_end（self,logs = None):\n",
    "#         print(\"Finished predcting!\")   "
   ]
  },
  {
   "cell_type": "code",
   "execution_count": 25,
   "metadata": {},
   "outputs": [],
   "source": [
    "# Re-build the model\n",
    "\n",
    "model = get_regularised_model(1e-5,0.3)"
   ]
  },
  {
   "cell_type": "code",
   "execution_count": 26,
   "metadata": {},
   "outputs": [],
   "source": [
    "# Compile the model\n",
    "\n",
    "model.compile(optimizer =\"adam\",loss = \"mse\")"
   ]
  },
  {
   "cell_type": "markdown",
   "metadata": {},
   "source": [
    "#### Train the model with the callback"
   ]
  },
  {
   "cell_type": "code",
   "execution_count": 27,
   "metadata": {},
   "outputs": [
    {
     "name": "stdout",
     "output_type": "stream",
     "text": [
      "Starting training....\n",
      "Starting epoch 0\n",
      "Training: Starting batch 0\n",
      "Training: Finished batch 0\n",
      "Training: Starting batch 1\n",
      "Training: Finished batch 1\n",
      "Training: Starting batch 2\n",
      "Training: Finished batch 2\n",
      "Training: Starting batch 3\n",
      "Training: Finished batch 3\n",
      "Training: Starting batch 4\n",
      "Training: Finished batch 4\n",
      "Training: Starting batch 5\n",
      "Training: Finished batch 5\n",
      "Finished epoch 0\n",
      "Starting epoch 1\n",
      "Training: Starting batch 0\n",
      "Training: Finished batch 0\n",
      "Training: Starting batch 1\n",
      "Training: Finished batch 1\n",
      "Training: Starting batch 2\n",
      "Training: Finished batch 2\n",
      "Training: Starting batch 3\n",
      "Training: Finished batch 3\n",
      "Training: Starting batch 4\n",
      "Training: Finished batch 4\n",
      "Training: Starting batch 5\n",
      "Training: Finished batch 5\n",
      "Finished epoch 1\n",
      "Starting epoch 2\n",
      "Training: Starting batch 0\n",
      "Training: Finished batch 0\n",
      "Training: Starting batch 1\n",
      "Training: Finished batch 1\n",
      "Training: Starting batch 2\n",
      "Training: Finished batch 2\n",
      "Training: Starting batch 3\n",
      "Training: Finished batch 3\n",
      "Training: Starting batch 4\n",
      "Training: Finished batch 4\n",
      "Training: Starting batch 5\n",
      "Training: Finished batch 5\n",
      "Finished epoch 2\n",
      "Starting epoch 3\n",
      "Training: Starting batch 0\n",
      "Training: Finished batch 0\n",
      "Training: Starting batch 1\n",
      "Training: Finished batch 1\n",
      "Training: Starting batch 2\n",
      "Training: Finished batch 2\n",
      "Training: Starting batch 3\n",
      "Training: Finished batch 3\n",
      "Training: Starting batch 4\n",
      "Training: Finished batch 4\n",
      "Training: Starting batch 5\n",
      "Training: Finished batch 5\n",
      "Finished epoch 3\n",
      "Starting epoch 4\n",
      "Training: Starting batch 0\n",
      "Training: Finished batch 0\n",
      "Training: Starting batch 1\n",
      "Training: Finished batch 1\n",
      "Training: Starting batch 2\n",
      "Training: Finished batch 2\n",
      "Training: Starting batch 3\n",
      "Training: Finished batch 3\n",
      "Training: Starting batch 4\n",
      "Training: Finished batch 4\n",
      "Training: Starting batch 5\n",
      "Training: Finished batch 5\n",
      "Finished epoch 4\n",
      "Starting epoch 5\n",
      "Training: Starting batch 0\n",
      "Training: Finished batch 0\n",
      "Training: Starting batch 1\n",
      "Training: Finished batch 1\n",
      "Training: Starting batch 2\n",
      "Training: Finished batch 2\n",
      "Training: Starting batch 3\n",
      "Training: Finished batch 3\n",
      "Training: Starting batch 4\n",
      "Training: Finished batch 4\n",
      "Training: Starting batch 5\n",
      "Training: Finished batch 5\n",
      "Finished epoch 5\n",
      "Starting epoch 6\n",
      "Training: Starting batch 0\n",
      "Training: Finished batch 0\n",
      "Training: Starting batch 1\n",
      "Training: Finished batch 1\n",
      "Training: Starting batch 2\n",
      "Training: Finished batch 2\n",
      "Training: Starting batch 3\n",
      "Training: Finished batch 3\n",
      "Training: Starting batch 4\n",
      "Training: Finished batch 4\n",
      "Training: Starting batch 5\n",
      "Training: Finished batch 5\n",
      "Finished epoch 6\n",
      "Starting epoch 7\n",
      "Training: Starting batch 0\n",
      "Training: Finished batch 0\n",
      "Training: Starting batch 1\n",
      "Training: Finished batch 1\n",
      "Training: Starting batch 2\n",
      "Training: Finished batch 2\n",
      "Training: Starting batch 3\n",
      "Training: Finished batch 3\n",
      "Training: Starting batch 4\n",
      "Training: Finished batch 4\n",
      "Training: Starting batch 5\n",
      "Training: Finished batch 5\n",
      "Finished epoch 7\n",
      "Starting epoch 8\n",
      "Training: Starting batch 0\n",
      "Training: Finished batch 0\n",
      "Training: Starting batch 1\n",
      "Training: Finished batch 1\n",
      "Training: Starting batch 2\n",
      "Training: Finished batch 2\n",
      "Training: Starting batch 3\n",
      "Training: Finished batch 3\n",
      "Training: Starting batch 4\n",
      "Training: Finished batch 4\n",
      "Training: Starting batch 5\n",
      "Training: Finished batch 5\n",
      "Finished epoch 8\n",
      "Starting epoch 9\n",
      "Training: Starting batch 0\n",
      "Training: Finished batch 0\n",
      "Training: Starting batch 1\n",
      "Training: Finished batch 1\n",
      "Training: Starting batch 2\n",
      "Training: Finished batch 2\n",
      "Training: Starting batch 3\n",
      "Training: Finished batch 3\n",
      "Training: Starting batch 4\n",
      "Training: Finished batch 4\n",
      "Training: Starting batch 5\n",
      "Training: Finished batch 5\n",
      "Finished epoch 9\n",
      "Starting epoch 10\n",
      "Training: Starting batch 0\n",
      "Training: Finished batch 0\n",
      "Training: Starting batch 1\n",
      "Training: Finished batch 1\n",
      "Training: Starting batch 2\n",
      "Training: Finished batch 2\n",
      "Training: Starting batch 3\n",
      "Training: Finished batch 3\n",
      "Training: Starting batch 4\n",
      "Training: Finished batch 4\n",
      "Training: Starting batch 5\n",
      "Training: Finished batch 5\n",
      "Finished epoch 10\n",
      "Starting epoch 11\n",
      "Training: Starting batch 0\n",
      "Training: Finished batch 0\n",
      "Training: Starting batch 1\n",
      "Training: Finished batch 1\n",
      "Training: Starting batch 2\n",
      "Training: Finished batch 2\n",
      "Training: Starting batch 3\n",
      "Training: Finished batch 3\n",
      "Training: Starting batch 4\n",
      "Training: Finished batch 4\n",
      "Training: Starting batch 5\n",
      "Training: Finished batch 5\n",
      "Finished epoch 11\n",
      "Starting epoch 12\n",
      "Training: Starting batch 0\n",
      "Training: Finished batch 0\n",
      "Training: Starting batch 1\n",
      "Training: Finished batch 1\n",
      "Training: Starting batch 2\n",
      "Training: Finished batch 2\n",
      "Training: Starting batch 3\n",
      "Training: Finished batch 3\n",
      "Training: Starting batch 4\n",
      "Training: Finished batch 4\n",
      "Training: Starting batch 5\n",
      "Training: Finished batch 5\n",
      "Finished epoch 12\n",
      "Starting epoch 13\n",
      "Training: Starting batch 0\n",
      "Training: Finished batch 0\n",
      "Training: Starting batch 1\n",
      "Training: Finished batch 1\n",
      "Training: Starting batch 2\n",
      "Training: Finished batch 2\n",
      "Training: Starting batch 3\n",
      "Training: Finished batch 3\n",
      "Training: Starting batch 4\n",
      "Training: Finished batch 4\n",
      "Training: Starting batch 5\n",
      "Training: Finished batch 5\n",
      "Finished epoch 13\n",
      "Starting epoch 14\n",
      "Training: Starting batch 0\n",
      "Training: Finished batch 0\n",
      "Training: Starting batch 1\n",
      "Training: Finished batch 1\n",
      "Training: Starting batch 2\n",
      "Training: Finished batch 2\n",
      "Training: Starting batch 3\n",
      "Training: Finished batch 3\n",
      "Training: Starting batch 4\n",
      "Training: Finished batch 4\n",
      "Training: Starting batch 5\n",
      "Training: Finished batch 5\n",
      "Finished epoch 14\n",
      "Starting epoch 15\n",
      "Training: Starting batch 0\n",
      "Training: Finished batch 0\n",
      "Training: Starting batch 1\n",
      "Training: Finished batch 1\n",
      "Training: Starting batch 2\n",
      "Training: Finished batch 2\n",
      "Training: Starting batch 3\n",
      "Training: Finished batch 3\n",
      "Training: Starting batch 4\n",
      "Training: Finished batch 4\n",
      "Training: Starting batch 5\n",
      "Training: Finished batch 5\n",
      "Finished epoch 15\n",
      "Starting epoch 16\n",
      "Training: Starting batch 0\n",
      "Training: Finished batch 0\n",
      "Training: Starting batch 1\n",
      "Training: Finished batch 1\n",
      "Training: Starting batch 2\n",
      "Training: Finished batch 2\n",
      "Training: Starting batch 3\n",
      "Training: Finished batch 3\n",
      "Training: Starting batch 4\n",
      "Training: Finished batch 4\n",
      "Training: Starting batch 5\n",
      "Training: Finished batch 5\n",
      "Finished epoch 16\n",
      "Starting epoch 17\n",
      "Training: Starting batch 0\n",
      "Training: Finished batch 0\n",
      "Training: Starting batch 1\n",
      "Training: Finished batch 1\n",
      "Training: Starting batch 2\n",
      "Training: Finished batch 2\n",
      "Training: Starting batch 3\n",
      "Training: Finished batch 3\n",
      "Training: Starting batch 4\n",
      "Training: Finished batch 4\n",
      "Training: Starting batch 5\n",
      "Training: Finished batch 5\n",
      "Finished epoch 17\n",
      "Starting epoch 18\n",
      "Training: Starting batch 0\n",
      "Training: Finished batch 0\n",
      "Training: Starting batch 1\n",
      "Training: Finished batch 1\n",
      "Training: Starting batch 2\n",
      "Training: Finished batch 2\n",
      "Training: Starting batch 3\n",
      "Training: Finished batch 3\n",
      "Training: Starting batch 4\n",
      "Training: Finished batch 4\n",
      "Training: Starting batch 5\n",
      "Training: Finished batch 5\n",
      "Finished epoch 18\n",
      "Starting epoch 19\n",
      "Training: Starting batch 0\n",
      "Training: Finished batch 0\n",
      "Training: Starting batch 1\n",
      "Training: Finished batch 1\n",
      "Training: Starting batch 2\n",
      "Training: Finished batch 2\n",
      "Training: Starting batch 3\n",
      "Training: Finished batch 3\n",
      "Training: Starting batch 4\n",
      "Training: Finished batch 4\n",
      "Training: Starting batch 5\n",
      "Training: Finished batch 5\n",
      "Finished epoch 19\n",
      "Starting epoch 20\n",
      "Training: Starting batch 0\n",
      "Training: Finished batch 0\n",
      "Training: Starting batch 1\n",
      "Training: Finished batch 1\n",
      "Training: Starting batch 2\n",
      "Training: Finished batch 2\n",
      "Training: Starting batch 3\n",
      "Training: Finished batch 3\n",
      "Training: Starting batch 4\n",
      "Training: Finished batch 4\n",
      "Training: Starting batch 5\n",
      "Training: Finished batch 5\n",
      "Finished epoch 20\n",
      "Starting epoch 21\n",
      "Training: Starting batch 0\n",
      "Training: Finished batch 0\n",
      "Training: Starting batch 1\n",
      "Training: Finished batch 1\n",
      "Training: Starting batch 2\n",
      "Training: Finished batch 2\n",
      "Training: Starting batch 3\n",
      "Training: Finished batch 3\n",
      "Training: Starting batch 4\n",
      "Training: Finished batch 4\n",
      "Training: Starting batch 5\n",
      "Training: Finished batch 5\n",
      "Finished epoch 21\n",
      "Starting epoch 22\n",
      "Training: Starting batch 0\n",
      "Training: Finished batch 0\n",
      "Training: Starting batch 1\n",
      "Training: Finished batch 1\n",
      "Training: Starting batch 2\n",
      "Training: Finished batch 2\n",
      "Training: Starting batch 3\n",
      "Training: Finished batch 3\n",
      "Training: Starting batch 4\n",
      "Training: Finished batch 4\n",
      "Training: Starting batch 5\n",
      "Training: Finished batch 5\n",
      "Finished epoch 22\n",
      "Starting epoch 23\n",
      "Training: Starting batch 0\n",
      "Training: Finished batch 0\n",
      "Training: Starting batch 1\n"
     ]
    },
    {
     "name": "stdout",
     "output_type": "stream",
     "text": [
      "Training: Finished batch 1\n",
      "Training: Starting batch 2\n",
      "Training: Finished batch 2\n",
      "Training: Starting batch 3\n",
      "Training: Finished batch 3\n",
      "Training: Starting batch 4\n",
      "Training: Finished batch 4\n",
      "Training: Starting batch 5\n",
      "Training: Finished batch 5\n",
      "Finished epoch 23\n",
      "Starting epoch 24\n",
      "Training: Starting batch 0\n",
      "Training: Finished batch 0\n",
      "Training: Starting batch 1\n",
      "Training: Finished batch 1\n",
      "Training: Starting batch 2\n",
      "Training: Finished batch 2\n",
      "Training: Starting batch 3\n",
      "Training: Finished batch 3\n",
      "Training: Starting batch 4\n",
      "Training: Finished batch 4\n",
      "Training: Starting batch 5\n",
      "Training: Finished batch 5\n",
      "Finished epoch 24\n",
      "Starting epoch 25\n",
      "Training: Starting batch 0\n",
      "Training: Finished batch 0\n",
      "Training: Starting batch 1\n",
      "Training: Finished batch 1\n",
      "Training: Starting batch 2\n",
      "Training: Finished batch 2\n",
      "Training: Starting batch 3\n",
      "Training: Finished batch 3\n",
      "Training: Starting batch 4\n",
      "Training: Finished batch 4\n",
      "Training: Starting batch 5\n",
      "Training: Finished batch 5\n",
      "Finished epoch 25\n",
      "Starting epoch 26\n",
      "Training: Starting batch 0\n",
      "Training: Finished batch 0\n",
      "Training: Starting batch 1\n",
      "Training: Finished batch 1\n",
      "Training: Starting batch 2\n",
      "Training: Finished batch 2\n",
      "Training: Starting batch 3\n",
      "Training: Finished batch 3\n",
      "Training: Starting batch 4\n",
      "Training: Finished batch 4\n",
      "Training: Starting batch 5\n",
      "Training: Finished batch 5\n",
      "Finished epoch 26\n",
      "Starting epoch 27\n",
      "Training: Starting batch 0\n",
      "Training: Finished batch 0\n",
      "Training: Starting batch 1\n",
      "Training: Finished batch 1\n",
      "Training: Starting batch 2\n",
      "Training: Finished batch 2\n",
      "Training: Starting batch 3\n",
      "Training: Finished batch 3\n",
      "Training: Starting batch 4\n",
      "Training: Finished batch 4\n",
      "Training: Starting batch 5\n",
      "Training: Finished batch 5\n",
      "Finished epoch 27\n",
      "Starting epoch 28\n",
      "Training: Starting batch 0\n",
      "Training: Finished batch 0\n",
      "Training: Starting batch 1\n",
      "Training: Finished batch 1\n",
      "Training: Starting batch 2\n",
      "Training: Finished batch 2\n",
      "Finished epoch 28\n",
      "Finished training!\n"
     ]
    },
    {
     "ename": "KeyboardInterrupt",
     "evalue": "",
     "output_type": "error",
     "traceback": [
      "\u001b[0;31m---------------------------------------------------------------------------\u001b[0m",
      "\u001b[0;31mKeyboardInterrupt\u001b[0m                         Traceback (most recent call last)",
      "\u001b[0;32m<ipython-input-27-0c9b6e638307>\u001b[0m in \u001b[0;36m<module>\u001b[0;34m\u001b[0m\n\u001b[1;32m      1\u001b[0m \u001b[0;31m# Train the model, with some of the data reserved for validation\u001b[0m\u001b[0;34m\u001b[0m\u001b[0;34m\u001b[0m\u001b[0;34m\u001b[0m\u001b[0m\n\u001b[1;32m      2\u001b[0m \u001b[0;34m\u001b[0m\u001b[0m\n\u001b[0;32m----> 3\u001b[0;31m \u001b[0mhistory\u001b[0m \u001b[0;34m=\u001b[0m \u001b[0mmodel\u001b[0m\u001b[0;34m.\u001b[0m\u001b[0mfit\u001b[0m\u001b[0;34m(\u001b[0m\u001b[0mtrain_data\u001b[0m\u001b[0;34m,\u001b[0m\u001b[0mtrain_targets\u001b[0m\u001b[0;34m,\u001b[0m\u001b[0mepochs\u001b[0m\u001b[0;34m=\u001b[0m\u001b[0;36m100\u001b[0m\u001b[0;34m,\u001b[0m\u001b[0mvalidation_split\u001b[0m\u001b[0;34m=\u001b[0m\u001b[0;36m0.15\u001b[0m\u001b[0;34m,\u001b[0m\u001b[0mbatch_size\u001b[0m\u001b[0;34m=\u001b[0m\u001b[0;36m64\u001b[0m\u001b[0;34m,\u001b[0m\u001b[0mverbose\u001b[0m\u001b[0;34m=\u001b[0m\u001b[0;32mFalse\u001b[0m\u001b[0;34m,\u001b[0m\u001b[0mcallbacks\u001b[0m\u001b[0;34m=\u001b[0m\u001b[0;34m[\u001b[0m\u001b[0mTrainCallback\u001b[0m\u001b[0;34m(\u001b[0m\u001b[0;34m)\u001b[0m\u001b[0;34m]\u001b[0m\u001b[0;34m)\u001b[0m\u001b[0;34m\u001b[0m\u001b[0;34m\u001b[0m\u001b[0m\n\u001b[0m",
      "\u001b[0;32m/opt/conda/lib/python3.7/site-packages/tensorflow_core/python/keras/engine/training.py\u001b[0m in \u001b[0;36mfit\u001b[0;34m(self, x, y, batch_size, epochs, verbose, callbacks, validation_split, validation_data, shuffle, class_weight, sample_weight, initial_epoch, steps_per_epoch, validation_steps, validation_freq, max_queue_size, workers, use_multiprocessing, **kwargs)\u001b[0m\n\u001b[1;32m    726\u001b[0m         \u001b[0mmax_queue_size\u001b[0m\u001b[0;34m=\u001b[0m\u001b[0mmax_queue_size\u001b[0m\u001b[0;34m,\u001b[0m\u001b[0;34m\u001b[0m\u001b[0;34m\u001b[0m\u001b[0m\n\u001b[1;32m    727\u001b[0m         \u001b[0mworkers\u001b[0m\u001b[0;34m=\u001b[0m\u001b[0mworkers\u001b[0m\u001b[0;34m,\u001b[0m\u001b[0;34m\u001b[0m\u001b[0;34m\u001b[0m\u001b[0m\n\u001b[0;32m--> 728\u001b[0;31m         use_multiprocessing=use_multiprocessing)\n\u001b[0m\u001b[1;32m    729\u001b[0m \u001b[0;34m\u001b[0m\u001b[0m\n\u001b[1;32m    730\u001b[0m   def evaluate(self,\n",
      "\u001b[0;32m/opt/conda/lib/python3.7/site-packages/tensorflow_core/python/keras/engine/training_v2.py\u001b[0m in \u001b[0;36mfit\u001b[0;34m(self, model, x, y, batch_size, epochs, verbose, callbacks, validation_split, validation_data, shuffle, class_weight, sample_weight, initial_epoch, steps_per_epoch, validation_steps, validation_freq, **kwargs)\u001b[0m\n\u001b[1;32m    322\u001b[0m                 \u001b[0mmode\u001b[0m\u001b[0;34m=\u001b[0m\u001b[0mModeKeys\u001b[0m\u001b[0;34m.\u001b[0m\u001b[0mTRAIN\u001b[0m\u001b[0;34m,\u001b[0m\u001b[0;34m\u001b[0m\u001b[0;34m\u001b[0m\u001b[0m\n\u001b[1;32m    323\u001b[0m                 \u001b[0mtraining_context\u001b[0m\u001b[0;34m=\u001b[0m\u001b[0mtraining_context\u001b[0m\u001b[0;34m,\u001b[0m\u001b[0;34m\u001b[0m\u001b[0;34m\u001b[0m\u001b[0m\n\u001b[0;32m--> 324\u001b[0;31m                 total_epochs=epochs)\n\u001b[0m\u001b[1;32m    325\u001b[0m             \u001b[0mcbks\u001b[0m\u001b[0;34m.\u001b[0m\u001b[0mmake_logs\u001b[0m\u001b[0;34m(\u001b[0m\u001b[0mmodel\u001b[0m\u001b[0;34m,\u001b[0m \u001b[0mepoch_logs\u001b[0m\u001b[0;34m,\u001b[0m \u001b[0mtraining_result\u001b[0m\u001b[0;34m,\u001b[0m \u001b[0mModeKeys\u001b[0m\u001b[0;34m.\u001b[0m\u001b[0mTRAIN\u001b[0m\u001b[0;34m)\u001b[0m\u001b[0;34m\u001b[0m\u001b[0;34m\u001b[0m\u001b[0m\n\u001b[1;32m    326\u001b[0m \u001b[0;34m\u001b[0m\u001b[0m\n",
      "\u001b[0;32m/opt/conda/lib/python3.7/site-packages/tensorflow_core/python/keras/engine/training_v2.py\u001b[0m in \u001b[0;36mrun_one_epoch\u001b[0;34m(model, iterator, execution_function, dataset_size, batch_size, strategy, steps_per_epoch, num_samples, mode, training_context, total_epochs)\u001b[0m\n\u001b[1;32m    121\u001b[0m         step=step, mode=mode, size=current_batch_size) as batch_logs:\n\u001b[1;32m    122\u001b[0m       \u001b[0;32mtry\u001b[0m\u001b[0;34m:\u001b[0m\u001b[0;34m\u001b[0m\u001b[0;34m\u001b[0m\u001b[0m\n\u001b[0;32m--> 123\u001b[0;31m         \u001b[0mbatch_outs\u001b[0m \u001b[0;34m=\u001b[0m \u001b[0mexecution_function\u001b[0m\u001b[0;34m(\u001b[0m\u001b[0miterator\u001b[0m\u001b[0;34m)\u001b[0m\u001b[0;34m\u001b[0m\u001b[0;34m\u001b[0m\u001b[0m\n\u001b[0m\u001b[1;32m    124\u001b[0m       \u001b[0;32mexcept\u001b[0m \u001b[0;34m(\u001b[0m\u001b[0mStopIteration\u001b[0m\u001b[0;34m,\u001b[0m \u001b[0merrors\u001b[0m\u001b[0;34m.\u001b[0m\u001b[0mOutOfRangeError\u001b[0m\u001b[0;34m)\u001b[0m\u001b[0;34m:\u001b[0m\u001b[0;34m\u001b[0m\u001b[0;34m\u001b[0m\u001b[0m\n\u001b[1;32m    125\u001b[0m         \u001b[0;31m# TODO(kaftan): File bug about tf function and errors.OutOfRangeError?\u001b[0m\u001b[0;34m\u001b[0m\u001b[0;34m\u001b[0m\u001b[0;34m\u001b[0m\u001b[0m\n",
      "\u001b[0;32m/opt/conda/lib/python3.7/site-packages/tensorflow_core/python/keras/engine/training_v2_utils.py\u001b[0m in \u001b[0;36mexecution_function\u001b[0;34m(input_fn)\u001b[0m\n\u001b[1;32m     84\u001b[0m     \u001b[0;31m# `numpy` translates Tensors to values in Eager mode.\u001b[0m\u001b[0;34m\u001b[0m\u001b[0;34m\u001b[0m\u001b[0;34m\u001b[0m\u001b[0m\n\u001b[1;32m     85\u001b[0m     return nest.map_structure(_non_none_constant_value,\n\u001b[0;32m---> 86\u001b[0;31m                               distributed_function(input_fn))\n\u001b[0m\u001b[1;32m     87\u001b[0m \u001b[0;34m\u001b[0m\u001b[0m\n\u001b[1;32m     88\u001b[0m   \u001b[0;32mreturn\u001b[0m \u001b[0mexecution_function\u001b[0m\u001b[0;34m\u001b[0m\u001b[0;34m\u001b[0m\u001b[0m\n",
      "\u001b[0;32m/opt/conda/lib/python3.7/site-packages/tensorflow_core/python/eager/def_function.py\u001b[0m in \u001b[0;36m__call__\u001b[0;34m(self, *args, **kwds)\u001b[0m\n\u001b[1;32m    455\u001b[0m \u001b[0;34m\u001b[0m\u001b[0m\n\u001b[1;32m    456\u001b[0m     \u001b[0mtracing_count\u001b[0m \u001b[0;34m=\u001b[0m \u001b[0mself\u001b[0m\u001b[0;34m.\u001b[0m\u001b[0m_get_tracing_count\u001b[0m\u001b[0;34m(\u001b[0m\u001b[0;34m)\u001b[0m\u001b[0;34m\u001b[0m\u001b[0;34m\u001b[0m\u001b[0m\n\u001b[0;32m--> 457\u001b[0;31m     \u001b[0mresult\u001b[0m \u001b[0;34m=\u001b[0m \u001b[0mself\u001b[0m\u001b[0;34m.\u001b[0m\u001b[0m_call\u001b[0m\u001b[0;34m(\u001b[0m\u001b[0;34m*\u001b[0m\u001b[0margs\u001b[0m\u001b[0;34m,\u001b[0m \u001b[0;34m**\u001b[0m\u001b[0mkwds\u001b[0m\u001b[0;34m)\u001b[0m\u001b[0;34m\u001b[0m\u001b[0;34m\u001b[0m\u001b[0m\n\u001b[0m\u001b[1;32m    458\u001b[0m     \u001b[0;32mif\u001b[0m \u001b[0mtracing_count\u001b[0m \u001b[0;34m==\u001b[0m \u001b[0mself\u001b[0m\u001b[0;34m.\u001b[0m\u001b[0m_get_tracing_count\u001b[0m\u001b[0;34m(\u001b[0m\u001b[0;34m)\u001b[0m\u001b[0;34m:\u001b[0m\u001b[0;34m\u001b[0m\u001b[0;34m\u001b[0m\u001b[0m\n\u001b[1;32m    459\u001b[0m       \u001b[0mself\u001b[0m\u001b[0;34m.\u001b[0m\u001b[0m_call_counter\u001b[0m\u001b[0;34m.\u001b[0m\u001b[0mcalled_without_tracing\u001b[0m\u001b[0;34m(\u001b[0m\u001b[0;34m)\u001b[0m\u001b[0;34m\u001b[0m\u001b[0;34m\u001b[0m\u001b[0m\n",
      "\u001b[0;32m/opt/conda/lib/python3.7/site-packages/tensorflow_core/python/eager/def_function.py\u001b[0m in \u001b[0;36m_call\u001b[0;34m(self, *args, **kwds)\u001b[0m\n\u001b[1;32m    485\u001b[0m       \u001b[0;31m# In this case we have created variables on the first call, so we run the\u001b[0m\u001b[0;34m\u001b[0m\u001b[0;34m\u001b[0m\u001b[0;34m\u001b[0m\u001b[0m\n\u001b[1;32m    486\u001b[0m       \u001b[0;31m# defunned version which is guaranteed to never create variables.\u001b[0m\u001b[0;34m\u001b[0m\u001b[0;34m\u001b[0m\u001b[0;34m\u001b[0m\u001b[0m\n\u001b[0;32m--> 487\u001b[0;31m       \u001b[0;32mreturn\u001b[0m \u001b[0mself\u001b[0m\u001b[0;34m.\u001b[0m\u001b[0m_stateless_fn\u001b[0m\u001b[0;34m(\u001b[0m\u001b[0;34m*\u001b[0m\u001b[0margs\u001b[0m\u001b[0;34m,\u001b[0m \u001b[0;34m**\u001b[0m\u001b[0mkwds\u001b[0m\u001b[0;34m)\u001b[0m  \u001b[0;31m# pylint: disable=not-callable\u001b[0m\u001b[0;34m\u001b[0m\u001b[0;34m\u001b[0m\u001b[0m\n\u001b[0m\u001b[1;32m    488\u001b[0m     \u001b[0;32melif\u001b[0m \u001b[0mself\u001b[0m\u001b[0;34m.\u001b[0m\u001b[0m_stateful_fn\u001b[0m \u001b[0;32mis\u001b[0m \u001b[0;32mnot\u001b[0m \u001b[0;32mNone\u001b[0m\u001b[0;34m:\u001b[0m\u001b[0;34m\u001b[0m\u001b[0;34m\u001b[0m\u001b[0m\n\u001b[1;32m    489\u001b[0m       \u001b[0;31m# Release the lock early so that multiple threads can perform the call\u001b[0m\u001b[0;34m\u001b[0m\u001b[0;34m\u001b[0m\u001b[0;34m\u001b[0m\u001b[0m\n",
      "\u001b[0;32m/opt/conda/lib/python3.7/site-packages/tensorflow_core/python/eager/function.py\u001b[0m in \u001b[0;36m__call__\u001b[0;34m(self, *args, **kwargs)\u001b[0m\n\u001b[1;32m   1821\u001b[0m     \u001b[0;34m\"\"\"Calls a graph function specialized to the inputs.\"\"\"\u001b[0m\u001b[0;34m\u001b[0m\u001b[0;34m\u001b[0m\u001b[0m\n\u001b[1;32m   1822\u001b[0m     \u001b[0mgraph_function\u001b[0m\u001b[0;34m,\u001b[0m \u001b[0margs\u001b[0m\u001b[0;34m,\u001b[0m \u001b[0mkwargs\u001b[0m \u001b[0;34m=\u001b[0m \u001b[0mself\u001b[0m\u001b[0;34m.\u001b[0m\u001b[0m_maybe_define_function\u001b[0m\u001b[0;34m(\u001b[0m\u001b[0margs\u001b[0m\u001b[0;34m,\u001b[0m \u001b[0mkwargs\u001b[0m\u001b[0;34m)\u001b[0m\u001b[0;34m\u001b[0m\u001b[0;34m\u001b[0m\u001b[0m\n\u001b[0;32m-> 1823\u001b[0;31m     \u001b[0;32mreturn\u001b[0m \u001b[0mgraph_function\u001b[0m\u001b[0;34m.\u001b[0m\u001b[0m_filtered_call\u001b[0m\u001b[0;34m(\u001b[0m\u001b[0margs\u001b[0m\u001b[0;34m,\u001b[0m \u001b[0mkwargs\u001b[0m\u001b[0;34m)\u001b[0m  \u001b[0;31m# pylint: disable=protected-access\u001b[0m\u001b[0;34m\u001b[0m\u001b[0;34m\u001b[0m\u001b[0m\n\u001b[0m\u001b[1;32m   1824\u001b[0m \u001b[0;34m\u001b[0m\u001b[0m\n\u001b[1;32m   1825\u001b[0m   \u001b[0;34m@\u001b[0m\u001b[0mproperty\u001b[0m\u001b[0;34m\u001b[0m\u001b[0;34m\u001b[0m\u001b[0m\n",
      "\u001b[0;32m/opt/conda/lib/python3.7/site-packages/tensorflow_core/python/eager/function.py\u001b[0m in \u001b[0;36m_filtered_call\u001b[0;34m(self, args, kwargs)\u001b[0m\n\u001b[1;32m   1139\u001b[0m          if isinstance(t, (ops.Tensor,\n\u001b[1;32m   1140\u001b[0m                            resource_variable_ops.BaseResourceVariable))),\n\u001b[0;32m-> 1141\u001b[0;31m         self.captured_inputs)\n\u001b[0m\u001b[1;32m   1142\u001b[0m \u001b[0;34m\u001b[0m\u001b[0m\n\u001b[1;32m   1143\u001b[0m   \u001b[0;32mdef\u001b[0m \u001b[0m_call_flat\u001b[0m\u001b[0;34m(\u001b[0m\u001b[0mself\u001b[0m\u001b[0;34m,\u001b[0m \u001b[0margs\u001b[0m\u001b[0;34m,\u001b[0m \u001b[0mcaptured_inputs\u001b[0m\u001b[0;34m,\u001b[0m \u001b[0mcancellation_manager\u001b[0m\u001b[0;34m=\u001b[0m\u001b[0;32mNone\u001b[0m\u001b[0;34m)\u001b[0m\u001b[0;34m:\u001b[0m\u001b[0;34m\u001b[0m\u001b[0;34m\u001b[0m\u001b[0m\n",
      "\u001b[0;32m/opt/conda/lib/python3.7/site-packages/tensorflow_core/python/eager/function.py\u001b[0m in \u001b[0;36m_call_flat\u001b[0;34m(self, args, captured_inputs, cancellation_manager)\u001b[0m\n\u001b[1;32m   1222\u001b[0m     \u001b[0;32mif\u001b[0m \u001b[0mexecuting_eagerly\u001b[0m\u001b[0;34m:\u001b[0m\u001b[0;34m\u001b[0m\u001b[0;34m\u001b[0m\u001b[0m\n\u001b[1;32m   1223\u001b[0m       flat_outputs = forward_function.call(\n\u001b[0;32m-> 1224\u001b[0;31m           ctx, args, cancellation_manager=cancellation_manager)\n\u001b[0m\u001b[1;32m   1225\u001b[0m     \u001b[0;32melse\u001b[0m\u001b[0;34m:\u001b[0m\u001b[0;34m\u001b[0m\u001b[0;34m\u001b[0m\u001b[0m\n\u001b[1;32m   1226\u001b[0m       \u001b[0mgradient_name\u001b[0m \u001b[0;34m=\u001b[0m \u001b[0mself\u001b[0m\u001b[0;34m.\u001b[0m\u001b[0m_delayed_rewrite_functions\u001b[0m\u001b[0;34m.\u001b[0m\u001b[0mregister\u001b[0m\u001b[0;34m(\u001b[0m\u001b[0;34m)\u001b[0m\u001b[0;34m\u001b[0m\u001b[0;34m\u001b[0m\u001b[0m\n",
      "\u001b[0;32m/opt/conda/lib/python3.7/site-packages/tensorflow_core/python/eager/function.py\u001b[0m in \u001b[0;36mcall\u001b[0;34m(self, ctx, args, cancellation_manager)\u001b[0m\n\u001b[1;32m    509\u001b[0m               \u001b[0minputs\u001b[0m\u001b[0;34m=\u001b[0m\u001b[0margs\u001b[0m\u001b[0;34m,\u001b[0m\u001b[0;34m\u001b[0m\u001b[0;34m\u001b[0m\u001b[0m\n\u001b[1;32m    510\u001b[0m               \u001b[0mattrs\u001b[0m\u001b[0;34m=\u001b[0m\u001b[0;34m(\u001b[0m\u001b[0;34m\"executor_type\"\u001b[0m\u001b[0;34m,\u001b[0m \u001b[0mexecutor_type\u001b[0m\u001b[0;34m,\u001b[0m \u001b[0;34m\"config_proto\"\u001b[0m\u001b[0;34m,\u001b[0m \u001b[0mconfig\u001b[0m\u001b[0;34m)\u001b[0m\u001b[0;34m,\u001b[0m\u001b[0;34m\u001b[0m\u001b[0;34m\u001b[0m\u001b[0m\n\u001b[0;32m--> 511\u001b[0;31m               ctx=ctx)\n\u001b[0m\u001b[1;32m    512\u001b[0m         \u001b[0;32melse\u001b[0m\u001b[0;34m:\u001b[0m\u001b[0;34m\u001b[0m\u001b[0;34m\u001b[0m\u001b[0m\n\u001b[1;32m    513\u001b[0m           outputs = execute.execute_with_cancellation(\n",
      "\u001b[0;32m/opt/conda/lib/python3.7/site-packages/tensorflow_core/python/eager/execute.py\u001b[0m in \u001b[0;36mquick_execute\u001b[0;34m(op_name, num_outputs, inputs, attrs, ctx, name)\u001b[0m\n\u001b[1;32m     59\u001b[0m     tensors = pywrap_tensorflow.TFE_Py_Execute(ctx._handle, device_name,\n\u001b[1;32m     60\u001b[0m                                                \u001b[0mop_name\u001b[0m\u001b[0;34m,\u001b[0m \u001b[0minputs\u001b[0m\u001b[0;34m,\u001b[0m \u001b[0mattrs\u001b[0m\u001b[0;34m,\u001b[0m\u001b[0;34m\u001b[0m\u001b[0;34m\u001b[0m\u001b[0m\n\u001b[0;32m---> 61\u001b[0;31m                                                num_outputs)\n\u001b[0m\u001b[1;32m     62\u001b[0m   \u001b[0;32mexcept\u001b[0m \u001b[0mcore\u001b[0m\u001b[0;34m.\u001b[0m\u001b[0m_NotOkStatusException\u001b[0m \u001b[0;32mas\u001b[0m \u001b[0me\u001b[0m\u001b[0;34m:\u001b[0m\u001b[0;34m\u001b[0m\u001b[0;34m\u001b[0m\u001b[0m\n\u001b[1;32m     63\u001b[0m     \u001b[0;32mif\u001b[0m \u001b[0mname\u001b[0m \u001b[0;32mis\u001b[0m \u001b[0;32mnot\u001b[0m \u001b[0;32mNone\u001b[0m\u001b[0;34m:\u001b[0m\u001b[0;34m\u001b[0m\u001b[0;34m\u001b[0m\u001b[0m\n",
      "\u001b[0;31mKeyboardInterrupt\u001b[0m: "
     ]
    }
   ],
   "source": [
    "# Train the model, with some of the data reserved for validation\n",
    "\n",
    "history = model.fit(train_data,train_targets,epochs=100,validation_split=0.15,batch_size=64,verbose=False,callbacks=[TrainCallback()])"
   ]
  },
  {
   "cell_type": "code",
   "execution_count": null,
   "metadata": {},
   "outputs": [],
   "source": [
    "# Evaluate the model\n",
    "\n",
    "model.evaluate(test_data,test_targets,verbose=False,callbacks=TestCallback())"
   ]
  },
  {
   "cell_type": "code",
   "execution_count": null,
   "metadata": {},
   "outputs": [],
   "source": [
    "# Make predictions with the model\n",
    "\n",
    "model.predict(test_data,verbose = False,callbacks=[PredictionCallback()])"
   ]
  },
  {
   "cell_type": "markdown",
   "metadata": {},
   "source": [
    "***\n",
    "<a id=\"coding_tutorial_4\"></a>\n",
    "## Early stopping / patience"
   ]
  },
  {
   "cell_type": "markdown",
   "metadata": {},
   "source": [
    "#### Re-train the models with early stopping"
   ]
  },
  {
   "cell_type": "code",
   "execution_count": null,
   "metadata": {},
   "outputs": [],
   "source": [
    "# Re-train the unregularised model\n",
    "unregularised_model = get_model()\n",
    "unregularised_model.compile(optimizer =\"adam\",loss = \"mse\")\n",
    "unregularised_model.compile(optimizer =\"adam\",loss = \"mse\")\n",
    "unreg_history = model.fit(train_data,train_targets,epochs=100,validation_split=0.15,batch_size=64,verbose=False,callbacks =[tf.keras.callbacks.Earlystopping(patience=2)])"
   ]
  },
  {
   "cell_type": "code",
   "execution_count": null,
   "metadata": {},
   "outputs": [],
   "source": [
    "# Evaluate the model on the test set\n",
    "\n",
    "unregularised_model.evaluate(test_data,test_targets,verbose=2)"
   ]
  },
  {
   "cell_type": "code",
   "execution_count": null,
   "metadata": {},
   "outputs": [],
   "source": [
    "# Re-train the regularised model\n",
    "regularised_model = get_regularised_model(1e-3,0.3)\n",
    "regularised_model.compile(optimizer =\"adam\",loss = \"mse\")\n",
    "reg_history = model.fit(train_data,train_targets,epochs=100,validation_split=0.15,batch_size=64,verbose=False,callbacks =[tf.keras.callbacks.Earlystopping(patience=2)])\n"
   ]
  },
  {
   "cell_type": "code",
   "execution_count": null,
   "metadata": {},
   "outputs": [],
   "source": [
    "# Evaluate the model on the test set\n",
    "\n",
    "regularised_model.evaluate(test_data,test_targets,verbose=2)"
   ]
  },
  {
   "cell_type": "markdown",
   "metadata": {},
   "source": [
    "#### Plot the learning curves"
   ]
  },
  {
   "cell_type": "code",
   "execution_count": null,
   "metadata": {},
   "outputs": [],
   "source": [
    "# Plot the training and validation loss\n",
    "\n",
    "import matplotlib.pyplot as plt\n",
    "\n",
    "fig = plt.figure(figsize=(12, 5))\n",
    "\n",
    "fig.add_subplot(121)\n",
    "\n",
    "plt.plot(unreg_history.history['loss'])\n",
    "plt.plot(unreg_history.history['val_loss'])\n",
    "plt.title('Unregularised model: loss vs. epochs')\n",
    "plt.ylabel('Loss')\n",
    "plt.xlabel('Epoch')\n",
    "plt.legend(['Training', 'Validation'], loc='upper right')\n",
    "\n",
    "fig.add_subplot(122)\n",
    "\n",
    "plt.plot(reg_history.history['loss'])\n",
    "plt.plot(reg_history.history['val_loss'])\n",
    "plt.title('Regularised model: loss vs. epochs')\n",
    "plt.ylabel('Loss')\n",
    "plt.xlabel('Epoch')\n",
    "plt.legend(['Training', 'Validation'], loc='upper right')\n",
    "\n",
    "plt.show()"
   ]
  }
 ],
 "metadata": {
  "kernelspec": {
   "display_name": "Python 3",
   "language": "python",
   "name": "python3"
  },
  "language_info": {
   "codemirror_mode": {
    "name": "ipython",
    "version": 3
   },
   "file_extension": ".py",
   "mimetype": "text/x-python",
   "name": "python",
   "nbconvert_exporter": "python",
   "pygments_lexer": "ipython3",
   "version": "3.7.1"
  }
 },
 "nbformat": 4,
 "nbformat_minor": 2
}
